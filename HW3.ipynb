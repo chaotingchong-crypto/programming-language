{
  "nbformat": 4,
  "nbformat_minor": 0,
  "metadata": {
    "colab": {
      "provenance": [],
      "authorship_tag": "ABX9TyMG6w1hZMBuqmFTBNhi1VgD",
      "include_colab_link": true
    },
    "kernelspec": {
      "name": "python3",
      "display_name": "Python 3"
    },
    "language_info": {
      "name": "python"
    }
  },
  "cells": [
    {
      "cell_type": "markdown",
      "metadata": {
        "id": "view-in-github",
        "colab_type": "text"
      },
      "source": [
        "<a href=\"https://colab.research.google.com/github/chaotingchong-crypto/programming-language/blob/main/HW3.ipynb\" target=\"_parent\"><img src=\"https://colab.research.google.com/assets/colab-badge.svg\" alt=\"Open In Colab\"/></a>"
      ]
    },
    {
      "cell_type": "code",
      "execution_count": 1,
      "metadata": {
        "id": "M32TPk1v5Wz8"
      },
      "outputs": [],
      "source": [
        "!pip -q install gspread gspread_dataframe google-auth google-auth-oauthlib google-auth-httplib2 \\\n",
        "               gradio pandas beautifulsoup4 google-generativeai python-dateutil plotly\n"
      ]
    },
    {
      "cell_type": "code",
      "source": [
        "import os, time, uuid, re, json, datetime\n",
        "from datetime import datetime as dt, timedelta\n",
        "from dateutil.tz import gettz\n",
        "import pandas as pd\n",
        "import gradio as gr\n",
        "import requests\n",
        "from bs4 import BeautifulSoup\n",
        "\n",
        "import google.generativeai as genai\n",
        "\n",
        "# Google Auth & Sheets\n",
        "from google.colab import auth\n",
        "import gspread\n",
        "from gspread_dataframe import set_with_dataframe, get_as_dataframe\n",
        "from google.auth.transport.requests import Request\n",
        "from google.oauth2 import service_account\n",
        "from google.auth import default\n"
      ],
      "metadata": {
        "id": "rckZpUUO5dbp"
      },
      "execution_count": 2,
      "outputs": []
    },
    {
      "cell_type": "code",
      "source": [
        "from google.colab import auth\n",
        "auth.authenticate_user()\n",
        "\n",
        "import gspread\n",
        "from google.auth import default\n",
        "creds, _ = default()\n",
        "\n",
        "gc = gspread.authorize(creds)"
      ],
      "metadata": {
        "id": "O2oL_vPyDljU"
      },
      "execution_count": 3,
      "outputs": []
    },
    {
      "cell_type": "code",
      "source": [],
      "metadata": {
        "id": "WxU1GV7tEKGD"
      },
      "execution_count": null,
      "outputs": []
    },
    {
      "cell_type": "code",
      "source": [
        "auth.authenticate_user()\n",
        "creds, _ = default()\n",
        "gc = gspread.authorize(creds)\n",
        "\n",
        "# Google Sheet 設定\n",
        "SHEET_URL = \"https://docs.google.com/spreadsheets/d/1yn7Qi7piNvLgnriw3lnYcQ5O_eSGlL6zeSlyvUXWVL4/edit?gid=0#gid=0\"\n",
        "WORKSHEET_NAME = \"健身紀錄\"\n",
        "TIMEZONE = \"Asia/Taipei\""
      ],
      "metadata": {
        "id": "CGFyn2YdCX1t"
      },
      "execution_count": 4,
      "outputs": []
    },
    {
      "cell_type": "code",
      "source": [
        "def tznow():\n",
        "    return dt.now(gettz(TIMEZONE))"
      ],
      "metadata": {
        "id": "YLjlX7vpET67"
      },
      "execution_count": 5,
      "outputs": []
    },
    {
      "cell_type": "code",
      "source": [
        "# =========================\n",
        "# 4️⃣ 表格欄位定義\n",
        "# =========================\n",
        "TASKS_HEADER = [\n",
        "    \"id\",\"exercise\",\"status\",\"intensity\",\"est_min\",\"start_time\",\"end_time\",\n",
        "    \"actual_min\",\"sets\",\"training_date\",\"category\",\"notes\",\n",
        "    \"created_at\",\"updated_at\",\"completed_at\",\"planned_for\"\n",
        "]\n",
        "LOGS_HEADER = [\n",
        "    \"log_id\",\"exercise_id\",\"phase\",\"start_ts\",\"end_ts\",\"minutes\",\"sets\",\"note\"\n",
        "]\n",
        "CLIPS_HEADER = [\"clip_id\",\"url\",\"selector\",\"text\",\"href\",\"created_at\",\"added_to_exercise\"]\n"
      ],
      "metadata": {
        "id": "_ivdxpoqEUjn"
      },
      "execution_count": 6,
      "outputs": []
    },
    {
      "cell_type": "code",
      "source": [
        "# =========================\n",
        "# 5️⃣ 建立 / 載入工作表\n",
        "# =========================\n",
        "def ensure_spreadsheet(name):\n",
        "    try:\n",
        "        sh = gc.open(name)\n",
        "    except gspread.SpreadsheetNotFound:\n",
        "        sh = gc.create(name)\n",
        "    return sh\n",
        "\n",
        "def ensure_worksheet(sh, title, header):\n",
        "    try:\n",
        "        ws = sh.worksheet(title)\n",
        "    except gspread.WorksheetNotFound:\n",
        "        ws = sh.add_worksheet(title=title, rows=\"1000\", cols=str(len(header)+5))\n",
        "        ws.update([header])\n",
        "    data = ws.get_all_values()\n",
        "    if not data or (data and data[0] != header):\n",
        "        ws.clear()\n",
        "        ws.update([header])\n",
        "    return ws\n",
        "\n",
        "sh = ensure_spreadsheet(WORKSHEET_NAME)\n",
        "ws_tasks = ensure_worksheet(sh, \"exercises\", TASKS_HEADER)\n",
        "ws_logs  = ensure_worksheet(sh, \"training_logs\", LOGS_HEADER)\n",
        "ws_clips = ensure_worksheet(sh, \"fitness_clips\", CLIPS_HEADER)\n"
      ],
      "metadata": {
        "id": "j579FcJ7EYUp"
      },
      "execution_count": 7,
      "outputs": []
    },
    {
      "cell_type": "code",
      "source": [
        "# =========================\n",
        "# 6️⃣ 讀寫 DataFrame 函數\n",
        "# =========================\n",
        "def read_df(ws, header):\n",
        "    df = get_as_dataframe(ws, evaluate_formulas=True, header=0)\n",
        "    if df is None or df.empty:\n",
        "        return pd.DataFrame(columns=header)\n",
        "    df = df.fillna(\"\")\n",
        "    for c in header:\n",
        "        if c not in df.columns:\n",
        "            df[c] = \"\"\n",
        "    # 型別轉換\n",
        "    for col in [\"est_min\",\"actual_min\",\"sets\"]:\n",
        "        if col in df.columns:\n",
        "            df[col] = pd.to_numeric(df[col], errors=\"coerce\").fillna(0).astype(int)\n",
        "    return df[header]\n",
        "\n",
        "def write_df(ws, df, header):\n",
        "    if df.empty:\n",
        "        ws.clear()\n",
        "        ws.update([header])\n",
        "        return\n",
        "    df_out = df.copy()\n",
        "    for c in df_out.columns:\n",
        "        df_out[c] = df_out[c].astype(str)\n",
        "    ws.clear()\n",
        "    ws.update([header] + df_out.values.tolist())\n",
        "\n",
        "def refresh_all():\n",
        "    global tasks_df, logs_df, clips_df\n",
        "    tasks_df = read_df(ws_tasks, TASKS_HEADER)\n",
        "    logs_df  = read_df(ws_logs, LOGS_HEADER)\n",
        "    clips_df = read_df(ws_clips, CLIPS_HEADER)\n",
        "    return tasks_df, logs_df, clips_df\n",
        "\n",
        "tasks_df, logs_df, clips_df = refresh_all()\n"
      ],
      "metadata": {
        "id": "ffzRdeQjEavm"
      },
      "execution_count": 8,
      "outputs": []
    },
    {
      "cell_type": "code",
      "source": [
        "# =========================\n",
        "# 7️⃣ 新增 / 更新 / 刪除任務\n",
        "# =========================\n",
        "def add_exercise(exercise, intensity, est_min, training_date, category, notes, planned_for):\n",
        "    global tasks_df\n",
        "    _now = tznow().isoformat()\n",
        "    new = pd.DataFrame([{\n",
        "        \"id\": str(uuid.uuid4())[:8],\n",
        "        \"exercise\": exercise.strip(),\n",
        "        \"status\": \"未完成\",\n",
        "        \"intensity\": intensity or \"中\",\n",
        "        \"est_min\": int(est_min) if est_min else 30,\n",
        "        \"start_time\": \"\",\n",
        "        \"end_time\": \"\",\n",
        "        \"actual_min\": 0,\n",
        "        \"sets\": 0,\n",
        "        \"training_date\": training_date or \"\",\n",
        "        \"category\": category or \"\",\n",
        "        \"notes\": notes or \"\",\n",
        "        \"created_at\": _now,\n",
        "        \"updated_at\": _now,\n",
        "        \"completed_at\": \"\",\n",
        "        \"planned_for\": planned_for or \"\"\n",
        "    }])\n",
        "    tasks_df = pd.concat([tasks_df, new], ignore_index=True)\n",
        "    write_df(ws_tasks, tasks_df, TASKS_HEADER)\n",
        "    return \"✅ 已新增運動項目\", tasks_df\n",
        "\n",
        "def update_exercise_status(ex_id, new_status):\n",
        "    global tasks_df\n",
        "    idx = tasks_df.index[tasks_df[\"id\"]==ex_id]\n",
        "    if len(idx)==0:\n",
        "        return \"⚠️ 找不到運動項目\", tasks_df\n",
        "    i = idx[0]\n",
        "    tasks_df.loc[i, \"status\"] = new_status\n",
        "    tasks_df.loc[i, \"updated_at\"] = tznow().isoformat()\n",
        "    if new_status==\"已完成\" and not tasks_df.loc[i,\"completed_at\"]:\n",
        "        tasks_df.loc[i,\"completed_at\"] = tznow().isoformat()\n",
        "    write_df(ws_tasks, tasks_df, TASKS_HEADER)\n",
        "    return \"✅ 狀態已更新\", tasks_df\n",
        "\n",
        "def delete_exercise(ex_id):\n",
        "    global tasks_df\n",
        "    if ex_id not in tasks_df[\"id\"].values:\n",
        "        return \"⚠️ 找不到運動項目\", tasks_df\n",
        "    tasks_df = tasks_df[tasks_df[\"id\"]!=ex_id]\n",
        "    write_df(ws_tasks, tasks_df, TASKS_HEADER)\n",
        "    return \"🗑️ 已刪除運動項目\", tasks_df\n"
      ],
      "metadata": {
        "id": "I0zAnopBEe9t"
      },
      "execution_count": 9,
      "outputs": []
    },
    {
      "cell_type": "code",
      "source": [
        "# =========================\n",
        "# 8️⃣ 番茄鐘模式 → 訓練紀錄\n",
        "# =========================\n",
        "_active_sessions = {}\n",
        "\n",
        "def start_training(ex_id, phase, sets):\n",
        "    if not ex_id: return \"⚠️ 請選擇運動項目\"\n",
        "    _active_sessions[ex_id] = {\n",
        "        \"phase\": phase,\n",
        "        \"start_ts\": tznow().isoformat(),\n",
        "        \"sets\": int(sets) if sets else 1\n",
        "    }\n",
        "    return f\"▶️ 開始 {phase}（運動: {ex_id}）\"\n",
        "\n",
        "def end_training(ex_id, note):\n",
        "    global logs_df, tasks_df\n",
        "    if ex_id not in _active_sessions:\n",
        "        return \"⚠️ 尚未開始任何訓練\"\n",
        "    sess = _active_sessions.pop(ex_id)\n",
        "    start = pd.to_datetime(sess[\"start_ts\"])\n",
        "    end = tznow()\n",
        "    minutes = round((end - start).total_seconds()/60.0,2)\n",
        "    log = pd.DataFrame([{\n",
        "        \"log_id\": str(uuid.uuid4())[:8],\n",
        "        \"exercise_id\": ex_id,\n",
        "        \"phase\": sess[\"phase\"],\n",
        "        \"start_ts\": start.isoformat(),\n",
        "        \"end_ts\": end.isoformat(),\n",
        "        \"minutes\": minutes,\n",
        "        \"sets\": int(sess[\"sets\"]),\n",
        "        \"note\": note or \"\"\n",
        "    }])\n",
        "    logs_df = pd.concat([logs_df, log], ignore_index=True)\n",
        "    write_df(ws_logs, logs_df, LOGS_HEADER)\n",
        "    # 回填實際時間\n",
        "    idx = tasks_df.index[tasks_df[\"id\"]==ex_id]\n",
        "    if len(idx):\n",
        "        i = idx[0]\n",
        "        tasks_df.loc[i,\"actual_min\"] = tasks_df.loc[i,\"actual_min\"] + int(minutes)\n",
        "        tasks_df.loc[i,\"sets\"] = tasks_df.loc[i,\"sets\"] + int(sess[\"sets\"])\n",
        "        tasks_df.loc[i,\"updated_at\"] = tznow().isoformat()\n",
        "        write_df(ws_tasks, tasks_df, TASKS_HEADER)\n",
        "    return f\"⏹️ 結束 {sess['phase']}，紀錄 {minutes} 分鐘\"\n"
      ],
      "metadata": {
        "id": "GGGyptolEgVN"
      },
      "execution_count": 10,
      "outputs": []
    },
    {
      "cell_type": "code",
      "source": [
        "# =========================\n",
        "# 9️⃣ 匯出 CSV / JSON\n",
        "# =========================\n",
        "def export_records():\n",
        "    tasks_df.to_csv(\"exercises.csv\", index=False)\n",
        "    tasks_df.to_json(\"exercises.json\", orient=\"records\", force_ascii=False)\n",
        "    logs_df.to_csv(\"training_logs.csv\", index=False)\n",
        "    logs_df.to_json(\"training_logs.json\", orient=\"records\", force_ascii=False)\n",
        "    clips_df.to_csv(\"fitness_clips.csv\", index=False)\n",
        "    clips_df.to_json(\"fitness_clips.json\", orient=\"records\", force_ascii=False)\n",
        "    return \"✅ 匯出完成（可上傳到 GitHub）\"\n"
      ],
      "metadata": {
        "id": "Ax6yBK8SElv0"
      },
      "execution_count": 11,
      "outputs": []
    },
    {
      "cell_type": "code",
      "source": [
        "# =========================\n",
        "# 🔟 今日統計 / 視覺化\n",
        "# =========================\n",
        "def today_summary():\n",
        "    today = tznow().date().isoformat()\n",
        "    planned = tasks_df[(tasks_df[\"training_date\"]==today) | (tasks_df[\"planned_for\"].str.lower()==\"today\")]\n",
        "    done = planned[planned[\"status\"]==\"已完成\"]\n",
        "    total = len(planned)\n",
        "    done_n = len(done)\n",
        "    rate = (done_n/total*100) if total>0 else 0\n",
        "    return f\"📅 今日運動總數：{total}；✅ 完成：{done_n}；📈 完成率：{rate:.1f}%\"\n",
        "\n",
        "def plot_training_distribution():\n",
        "    if tasks_df.empty: return None\n",
        "    fig = px.bar(tasks_df, x=\"exercise\", y=\"sets\", color=\"status\", title=\"各運動組數分布\")\n",
        "    return fig\n"
      ],
      "metadata": {
        "id": "4XA_ZFn4Enea"
      },
      "execution_count": 12,
      "outputs": []
    },
    {
      "cell_type": "code",
      "source": [
        "# =========================\n",
        "# Gradio UI\n",
        "# =========================\n",
        "with gr.Blocks(title=\"健身紀錄管理系統\") as demo:\n",
        "    gr.Markdown(\"# 🏋️ 健身紀錄系統（CSV 模擬 Google Sheet）\")\n",
        "\n",
        "    with gr.Row():\n",
        "        btn_refresh = gr.Button(\"🔄 重新整理\")\n",
        "        out_summary = gr.Markdown(today_summary())\n",
        "\n",
        "    # ==== 健身計畫分頁 ====\n",
        "    with gr.Tab(\"健身計畫\"):\n",
        "        with gr.Row():\n",
        "            with gr.Column(scale=2):\n",
        "                exercise = gr.Textbox(label=\"運動項目\", placeholder=\"深蹲 / 跑步 / 瑜伽\")\n",
        "                intensity = gr.Dropdown([\"高\",\"中\",\"低\"], value=\"中\", label=\"強度\")\n",
        "                est_min = gr.Number(value=30, label=\"預計分鐘\", precision=0)\n",
        "                training_date = gr.Textbox(label=\"訓練日期 YYYY-MM-DD\")\n",
        "                category = gr.Textbox(label=\"分類（有氧 / 重量 / 核心）\")\n",
        "                notes = gr.Textbox(label=\"備註\")\n",
        "                planned_for = gr.Dropdown([\"\",\"today\",\"tomorrow\"], value=\"\", label=\"規劃\")\n",
        "                btn_add = gr.Button(\"➕ 新增運動項目\")\n",
        "                msg_add = gr.Markdown()\n",
        "            with gr.Column(scale=3):\n",
        "                grid_tasks = gr.Dataframe(value=tasks_df, label=\"運動清單\", interactive=False)\n",
        "\n",
        "        with gr.Row():\n",
        "            exercise_choice = gr.Dropdown(choices=list_exercise_choices(), label=\"選取運動項目\")\n",
        "            new_status = gr.Dropdown([\"未完成\",\"進行中\",\"已完成\"], value=\"進行中\", label=\"更新狀態\")\n",
        "            btn_update = gr.Button(\"✏️ 更新狀態\")\n",
        "            btn_delete = gr.Button(\"🗑️ 刪除運動項目\")\n",
        "            msg_update = gr.Markdown()\n",
        "\n",
        "    # ==== 訓練紀錄分頁 ====\n",
        "    with gr.Tab(\"訓練紀錄\"):\n",
        "        sel_exercise = gr.Dropdown(choices=list_exercise_choices(), label=\"選擇運動\")\n",
        "        sets = gr.Number(value=1, precision=0, label=\"組數\")\n",
        "        btn_start = gr.Button(\"▶️ 開始訓練\")\n",
        "        note = gr.Textbox(label=\"備註\")\n",
        "        btn_end = gr.Button(\"⏹️ 結束訓練\")\n",
        "        msg_train = gr.Markdown()\n",
        "        grid_logs = gr.Dataframe(value=logs_df, label=\"訓練紀錄\", interactive=False)\n",
        "\n",
        "    # ==== 今日統計 ====\n",
        "    with gr.Tab(\"今日統計\"):\n",
        "        btn_summary = gr.Button(\"📊 更新今日統計\")\n",
        "        out_summary2 = gr.Markdown()\n",
        "        fig_plot = gr.Plot()\n",
        "\n",
        "    # ==== 綁定按鈕 ====\n",
        "    btn_refresh.click(refresh_all, outputs=[grid_tasks, grid_logs, exercise_choice, out_summary])\n",
        "    btn_add.click(add_exercise, inputs=[exercise,intensity,est_min,training_date,category,notes,planned_for], outputs=[msg_add, grid_tasks])\n",
        "    btn_update.click(update_exercise_status, inputs=[exercise_choice,new_status], outputs=[msg_update, grid_tasks])\n",
        "    btn_delete.click(delete_exercise, inputs=[exercise_choice], outputs=[msg_update, grid_tasks])\n",
        "    btn_start.click(start_training, inputs=[sel_exercise, gr.State(\"work\"), sets], outputs=[msg_train])\n",
        "    btn_end.click(end_training, inputs=[sel_exercise,note], outputs=[msg_train])\n",
        "    btn_summary.click(today_summary, outputs=[out_summary2])\n",
        "    btn_summary.click(plot_training_distribution, outputs=[fig_plot])\n",
        "\n",
        "demo.launch(share=True)"
      ],
      "metadata": {
        "id": "R9nG4XohEq8U",
        "outputId": "bcc40a79-5c9f-4f29-c3b3-046474cce07c",
        "colab": {
          "base_uri": "https://localhost:8080/",
          "height": 609
        }
      },
      "execution_count": 14,
      "outputs": [
        {
          "output_type": "stream",
          "name": "stdout",
          "text": [
            "Colab notebook detected. To show errors in colab notebook, set debug=True in launch()\n",
            "* Running on public URL: https://d21140f5d9b8b85146.gradio.live\n",
            "\n",
            "This share link expires in 1 week. For free permanent hosting and GPU upgrades, run `gradio deploy` from the terminal in the working directory to deploy to Hugging Face Spaces (https://huggingface.co/spaces)\n"
          ]
        },
        {
          "output_type": "display_data",
          "data": {
            "text/plain": [
              "<IPython.core.display.HTML object>"
            ],
            "text/html": [
              "<div><iframe src=\"https://d21140f5d9b8b85146.gradio.live\" width=\"100%\" height=\"500\" allow=\"autoplay; camera; microphone; clipboard-read; clipboard-write;\" frameborder=\"0\" allowfullscreen></iframe></div>"
            ]
          },
          "metadata": {}
        },
        {
          "output_type": "execute_result",
          "data": {
            "text/plain": []
          },
          "metadata": {},
          "execution_count": 14
        }
      ]
    }
  ]
}