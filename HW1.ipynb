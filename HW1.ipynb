{
  "nbformat": 4,
  "nbformat_minor": 0,
  "metadata": {
    "colab": {
      "provenance": [],
      "authorship_tag": "ABX9TyOB7P9R3yioS1Xr3ZYZZUWC",
      "include_colab_link": true
    },
    "kernelspec": {
      "name": "python3",
      "display_name": "Python 3"
    },
    "language_info": {
      "name": "python"
    }
  },
  "cells": [
    {
      "cell_type": "markdown",
      "metadata": {
        "id": "view-in-github",
        "colab_type": "text"
      },
      "source": [
        "<a href=\"https://colab.research.google.com/github/chaotingchong-crypto/programming-language/blob/main/HW1.ipynb\" target=\"_parent\"><img src=\"https://colab.research.google.com/assets/colab-badge.svg\" alt=\"Open In Colab\"/></a>"
      ]
    },
    {
      "cell_type": "code",
      "execution_count": 13,
      "metadata": {
        "id": "v9BQQgsS0SNG"
      },
      "outputs": [],
      "source": [
        "import gradio as gr\n",
        "import pandas as pd\n",
        "import datetime\n",
        "import gspread\n",
        "from google.colab import auth\n",
        "from google.auth import default\n"
      ]
    },
    {
      "cell_type": "code",
      "source": [
        "SHEET_URL = \"https://docs.google.com/spreadsheets/d/1jNgcmfmYeYiA8GirXALrm3D5FbvPjkULxGp76NcCE74/edit?hl=zh-tw&gid=0#gid=0\"\n",
        "WORKSHEET_NAME = \"Sheet1\"\n",
        "\n",
        "REQUIRED_COLUMNS = [\"日期\", \"品項\", \"數量\", \"金額\"]\n",
        "\n",
        "_auth_done = False\n",
        "_gc = None\n",
        "_ws = None"
      ],
      "metadata": {
        "id": "NZ0YfW9Y0YNh"
      },
      "execution_count": 2,
      "outputs": []
    },
    {
      "cell_type": "code",
      "source": [
        "def _ensure_auth_and_ws():\n",
        "    global _auth_done, _gc, _ws\n",
        "    if not _auth_done:\n",
        "        auth.authenticate_user()\n",
        "        creds, _ = default()\n",
        "        _gc = gspread.authorize(creds)\n",
        "        _auth_done = True\n",
        "    if _ws is None:\n",
        "        gs = _gc.open_by_url(SHEET_URL)\n",
        "        _ws = gs.worksheet(WORKSHEET_NAME)\n",
        "        _ensure_headers()\n",
        "    return _ws\n",
        "\n",
        "def _ensure_headers():\n",
        "    rows = _ws.get_all_values()\n",
        "    if not rows:\n",
        "        _ws.append_row(REQUIRED_COLUMNS, value_input_option=\"USER_ENTERED\")\n",
        "        return\n",
        "    header = rows[0]\n",
        "    if header != REQUIRED_COLUMNS:\n",
        "        existing = {h: idx for idx, h in enumerate(header)}\n",
        "        _ws.update('1:1', [REQUIRED_COLUMNS])\n",
        "        if len(rows) > 1:\n",
        "            new_rows = []\n",
        "            for r in rows[1:]:\n",
        "                mapping = {col: (r[existing[col]] if col in existing and existing[col] < len(r) else \"\")\n",
        "                           for col in REQUIRED_COLUMNS}\n",
        "                new_rows.append([mapping[c] for c in REQUIRED_COLUMNS])\n",
        "            _ws.resize(rows=1)\n",
        "            _ws.append_rows(new_rows, value_input_option=\"USER_ENTERED\")\n",
        "\n",
        "def _read_df():\n",
        "    ws = _ensure_auth_and_ws()\n",
        "    values = ws.get_all_values()\n",
        "    if not values:\n",
        "        return pd.DataFrame(columns=REQUIRED_COLUMNS)\n",
        "    df = pd.DataFrame(values[1:], columns=values[0])\n",
        "    if \"數量\" in df.columns:\n",
        "        df[\"數量\"] = pd.to_numeric(df[\"數量\"], errors=\"coerce\").fillna(0).astype(int)\n",
        "    if \"金額\" in df.columns:\n",
        "        df[\"金額\"] = pd.to_numeric(df[\"金額\"], errors=\"coerce\").fillna(0.0)\n",
        "    return df\n",
        "\n",
        "def add_expense(date_str, item, qty, amount):\n",
        "    try:\n",
        "        if not date_str:\n",
        "            date_str = datetime.date.today().strftime(\"%Y-%m-%d\")\n",
        "        item = (item or \"未填\").strip()\n",
        "\n",
        "        try:\n",
        "            qty_val = int(qty)\n",
        "        except:\n",
        "            return \"數量格式錯誤，請輸入整數\", None, None\n",
        "\n",
        "        try:\n",
        "            amount_val = float(amount)\n",
        "        except:\n",
        "            return \"金額格式錯誤，請輸入數字\", None, None\n",
        "\n",
        "        ws = _ensure_auth_and_ws()\n",
        "        ws.append_row(\n",
        "            [date_str, item, qty_val, amount_val],\n",
        "            value_input_option=\"USER_ENTERED\"\n",
        "        )\n",
        "        msg = f\"✅ 已新增：{date_str}｜{item}｜{qty_val}｜{amount_val}\"\n",
        "        df = _read_df()\n",
        "        total = float(df[\"金額\"].sum()) if not df.empty else 0.0\n",
        "        return msg, total, df\n",
        "    except Exception as e:\n",
        "        return f\"❌ 新增失敗：{e}\", None, None\n",
        "\n",
        "def refresh_summary():\n",
        "    try:\n",
        "        df = _read_df()\n",
        "        if df.empty:\n",
        "            return \"目前沒有資料\", 0.0, pd.DataFrame()\n",
        "        total = float(df[\"金額\"].sum())\n",
        "        return \"✅ 已更新彙總\", total, df\n",
        "    except Exception as e:\n",
        "        return f\"❌ 讀取失敗：{e}\", 0.0, pd.DataFrame()\n",
        "\n",
        "with gr.Blocks(title=\"日常支出紀錄（四欄版）\") as demo:\n",
        "    gr.Markdown(\"## 🧾 日常支出紀錄（Gradio）\\n- 新增支出後自動寫回 Google Sheet\\n- 讀取總額與原始資料\\n- 欄位：日期、品項、數量、金額\")\n",
        "\n",
        "    with gr.Tab(\"➕ 新增支出\"):\n",
        "        with gr.Row():\n",
        "            date_in = gr.Textbox(label=\"日期 YYYY-MM-DD\", value=datetime.date.today().strftime(\"%Y-%m-%d\"))\n",
        "            item_in = gr.Textbox(label=\"品項\", placeholder=\"如 咖啡 / 便當 / 車票\")\n",
        "        with gr.Row():\n",
        "            qty_in = gr.Textbox(label=\"數量\", placeholder=\"整數\")\n",
        "            amt_in = gr.Textbox(label=\"金額\", placeholder=\"數字\")\n",
        "        add_btn = gr.Button(\"新增到工作表\")\n",
        "\n",
        "        add_msg = gr.Markdown()\n",
        "        total_out = gr.Number(label=\"目前總額\", interactive=False)\n",
        "        data_df = gr.Dataframe(label=\"目前資料\", interactive=False)\n",
        "\n",
        "        add_btn.click(\n",
        "            fn=add_expense,\n",
        "            inputs=[date_in, item_in, qty_in, amt_in],\n",
        "            outputs=[add_msg, total_out, data_df]\n",
        "        )\n",
        "\n",
        "    with gr.Tab(\"📒 檢視 / 更新\"):\n",
        "        refresh_btn = gr.Button(\"讀取最新資料\")\n",
        "        msg2 = gr.Markdown()\n",
        "        total2 = gr.Number(label=\"總額\", interactive=False)\n",
        "        raw_preview = gr.Dataframe(label=\"全部資料\", interactive=False)\n",
        "\n",
        "        refresh_btn.click(\n",
        "            fn=refresh_summary,\n",
        "            inputs=[],\n",
        "            outputs=[msg2, total2, raw_preview]\n",
        "        )\n",
        "\n",
        "# 啟動介面\n",
        "demo.launch(share=True, debug=True)"
      ],
      "metadata": {
        "colab": {
          "base_uri": "https://localhost:8080/",
          "height": 609
        },
        "id": "O3lDwb3V10vn",
        "outputId": "b649ee14-8c4f-4b75-d5dc-ecbfeab363a0"
      },
      "execution_count": null,
      "outputs": [
        {
          "output_type": "stream",
          "name": "stdout",
          "text": [
            "Colab notebook detected. This cell will run indefinitely so that you can see errors and logs. To turn off, set debug=False in launch().\n",
            "* Running on public URL: https://180ce83d5fd3bb8eec.gradio.live\n",
            "\n",
            "This share link expires in 1 week. For free permanent hosting and GPU upgrades, run `gradio deploy` from the terminal in the working directory to deploy to Hugging Face Spaces (https://huggingface.co/spaces)\n"
          ]
        },
        {
          "output_type": "display_data",
          "data": {
            "text/plain": [
              "<IPython.core.display.HTML object>"
            ],
            "text/html": [
              "<div><iframe src=\"https://180ce83d5fd3bb8eec.gradio.live\" width=\"100%\" height=\"500\" allow=\"autoplay; camera; microphone; clipboard-read; clipboard-write;\" frameborder=\"0\" allowfullscreen></iframe></div>"
            ]
          },
          "metadata": {}
        }
      ]
    }
  ]
}